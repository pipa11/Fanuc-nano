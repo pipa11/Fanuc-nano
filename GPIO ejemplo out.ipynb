{
 "cells": [
  {
   "cell_type": "code",
   "execution_count": 2,
   "id": "forced-behavior",
   "metadata": {},
   "outputs": [],
   "source": [
    "import RPi.GPIO as GPIO\n",
    "\n",
    "GPIO.setmode(GPIO.BCM)    \n",
    "GPIO.setup(18, GPIO.OUT) # es el pin numero 12\n",
    "valor = 1 #1= pieza, 0 = no_pieza\n",
    "def salida_robot(valor):\n",
    "    while True:\n",
    "        if valor == 1:\n",
    "            GPIO.output(18, GPIO.HIGH)\n",
    "            print (\"valor a 1, hay pieza\")\n",
    "        else:\n",
    "            GPIO.output(18, GPIO.LOW)\n",
    "            print (\"valor a 0, no hay pieza\")\n",
    "\n",
    "GPIO.cleanup()           \n",
    "GPIO.setwarnings(False)\n"
   ]
  },
  {
   "cell_type": "code",
   "execution_count": null,
   "id": "running-horse",
   "metadata": {},
   "outputs": [],
   "source": []
  }
 ],
 "metadata": {
  "kernelspec": {
   "display_name": "Python 3",
   "language": "python",
   "name": "python3"
  },
  "language_info": {
   "codemirror_mode": {
    "name": "ipython",
    "version": 3
   },
   "file_extension": ".py",
   "mimetype": "text/x-python",
   "name": "python",
   "nbconvert_exporter": "python",
   "pygments_lexer": "ipython3",
   "version": "3.6.9"
  }
 },
 "nbformat": 4,
 "nbformat_minor": 5
}
