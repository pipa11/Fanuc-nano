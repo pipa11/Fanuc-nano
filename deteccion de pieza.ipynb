{
 "cells": [
  {
   "cell_type": "code",
   "execution_count": 1,
   "id": "alleged-former",
   "metadata": {},
   "outputs": [],
   "source": [
    "import torch\n",
    "import torchvision\n",
    "import cv2\n",
    "import numpy as np\n",
    "import traitlets\n",
    "from IPython.display import display\n",
    "import ipywidgets.widgets as widgets\n",
    "from jetbot import Camera, bgr8_to_jpeg\n",
    "import torch.nn.functional as F\n",
    "import time\n",
    "import RPi.GPIO as GPIO"
   ]
  },
  {
   "cell_type": "markdown",
   "id": "mexican-environment",
   "metadata": {},
   "source": [
    "#### inicializamos Pytorch y cargamos el modelo entrenado\n"
   ]
  },
  {
   "cell_type": "code",
   "execution_count": 2,
   "id": "several-theorem",
   "metadata": {},
   "outputs": [
    {
     "data": {
      "text/plain": [
       "<All keys matched successfully>"
      ]
     },
     "execution_count": 2,
     "metadata": {},
     "output_type": "execute_result"
    }
   ],
   "source": [
    "model = torchvision.models.alexnet(pretrained=False)\n",
    "model.classifier[6] = torch.nn.Linear(model.classifier[6].in_features, 2)\n",
    "model.load_state_dict(torch.load('modelo_entrenado.pth'))"
   ]
  },
  {
   "cell_type": "markdown",
   "id": "developed-biology",
   "metadata": {},
   "source": [
    "#### tranferimos el modelo desde la memoria del cpu hacia la Gpu\n"
   ]
  },
  {
   "cell_type": "code",
   "execution_count": 3,
   "id": "decreased-brooks",
   "metadata": {},
   "outputs": [],
   "source": [
    "device = torch.device('cuda')\n",
    "model = model.to(device)"
   ]
  },
  {
   "cell_type": "markdown",
   "id": "atomic-scholar",
   "metadata": {},
   "source": [
    "#### Varios pasos y mucho blabla:\n",
    "##### Convert from BGR to RGB\n",
    "##### Convert from HWC layout to CHW layout\n",
    "##### Normalize using same parameters as we did during training (our camera provides values in 0, 255 range and training loaded images in 0, 1 range so we need to scale by 255.0\n",
    "##### Transfer the data from CPU memory to GPU memory\n",
    "##### Add a batch dimension"
   ]
  },
  {
   "cell_type": "code",
   "execution_count": 4,
   "id": "educated-treasure",
   "metadata": {},
   "outputs": [],
   "source": [
    "mean = 255.0 * np.array([0.485, 0.456, 0.406])\n",
    "stdev = 255.0 * np.array([0.229, 0.224, 0.225])\n",
    "\n",
    "normalize = torchvision.transforms.Normalize(mean, stdev)\n",
    "\n",
    "def preprocess(camera_value):\n",
    "    global device, normalize\n",
    "    x = camera_value\n",
    "    x = cv2.cvtColor(x, cv2.COLOR_BGR2RGB)\n",
    "    x = x.transpose((2, 0, 1))\n",
    "    x = torch.from_numpy(x).float()\n",
    "    x = normalize(x)\n",
    "    x = x.to(device)\n",
    "    x = x[None, ...]\n",
    "    return x"
   ]
  },
  {
   "cell_type": "markdown",
   "id": "perceived-banking",
   "metadata": {},
   "source": [
    "#### definimos la funcion de pre-procesado e iniciamos la camara con el deslizador de si esta bloqueado o no\n"
   ]
  },
  {
   "cell_type": "code",
   "execution_count": 5,
   "id": "particular-qatar",
   "metadata": {},
   "outputs": [],
   "source": [
    "camera = Camera.instance(width=224, height=224)\n",
    "image = widgets.Image(format='jpeg', width=224, height=224)\n",
    "pieza_slider = widgets.FloatSlider(description='hay pieza', min=0.0, max=1.0, orientation='vertical')\n",
    "\n",
    "camera_link = traitlets.dlink((camera, 'value'), (image, 'value'), transform=bgr8_to_jpeg)\n",
    "\n",
    "#display(widgets.HBox([image, pieza_slider]))"
   ]
  },
  {
   "cell_type": "markdown",
   "id": "subtle-juice",
   "metadata": {},
   "source": [
    "#### ejecucion de la red neuronal(sin gpio)\n"
   ]
  },
  {
   "cell_type": "code",
   "execution_count": 6,
   "id": "foreign-participation",
   "metadata": {},
   "outputs": [],
   "source": [
    "def update(change):\n",
    "    global pieza_slider\n",
    "    x = change['new'] \n",
    "    x = preprocess(x)\n",
    "    y = model(x)\n",
    "    \n",
    "    y = F.softmax(y, dim=1)\n",
    "    \n",
    "    prob_no_pieza = float(y.flatten()[0])\n",
    "    pieza_slider.value = (1 - prob_no_pieza)\n",
    "    \n",
    "    time.sleep(0.001)"
   ]
  },
  {
   "cell_type": "code",
   "execution_count": 7,
   "id": "devoted-france",
   "metadata": {},
   "outputs": [],
   "source": [
    "update({'new': camera.value})  # we call the function once to intialize\n",
    "camera.observe(update, names='value') # this attaches the 'update' function to the 'value' traitlet of our camera"
   ]
  },
  {
   "cell_type": "markdown",
   "id": "pretty-garlic",
   "metadata": {},
   "source": [
    "#### Gpio"
   ]
  },
  {
   "cell_type": "code",
   "execution_count": 23,
   "id": "advised-import",
   "metadata": {},
   "outputs": [],
   "source": [
    "GPIO.setmode(GPIO.BCM)    \n",
    "GPIO.setup(18, GPIO.OUT, initial=GPIO.HIGH) # es el pin numero 12\n",
    "valor_gpio = pieza_slider #1= pieza, 0 = no_pieza\n",
    "def salida_robot(valor):\n",
    "    global valor_gpio\n",
    "    while True:\n",
    "        if valor_gpio == 1:\n",
    "            GPIO.output(18, GPIO.HIGH)\n",
    "            print (\"valor a 1, hay pieza\")\n",
    "        else:\n",
    "            GPIO.output(18, GPIO.LOW)\n",
    "            print (\"valor a 0, no hay pieza\")\n",
    "        \n",
    "        GPIO.cleanup()"
   ]
  },
  {
   "cell_type": "markdown",
   "id": "crucial-prior",
   "metadata": {},
   "source": [
    "#### Mostramos el Slider y la camara"
   ]
  },
  {
   "cell_type": "code",
   "execution_count": 8,
   "id": "metric-ancient",
   "metadata": {},
   "outputs": [
    {
     "data": {
      "application/vnd.jupyter.widget-view+json": {
       "model_id": "11cd1b0c17584acc9698caf517d10839",
       "version_major": 2,
       "version_minor": 0
      },
      "text/plain": [
       "HBox(children=(Image(value=b'\\xff\\xd8\\xff\\xe0\\x00\\x10JFIF\\x00\\x01\\x01\\x00\\x00\\x01\\x00\\x01\\x00\\x00\\xff\\xdb\\x00C…"
      ]
     },
     "metadata": {},
     "output_type": "display_data"
    }
   ],
   "source": [
    "camera_link.link()\n",
    "display(widgets.HBox([image, pieza_slider]))"
   ]
  },
  {
   "cell_type": "code",
   "execution_count": null,
   "id": "incredible-steal",
   "metadata": {},
   "outputs": [],
   "source": [
    "camera.stop()"
   ]
  }
 ],
 "metadata": {
  "kernelspec": {
   "display_name": "Python 3",
   "language": "python",
   "name": "python3"
  },
  "language_info": {
   "codemirror_mode": {
    "name": "ipython",
    "version": 3
   },
   "file_extension": ".py",
   "mimetype": "text/x-python",
   "name": "python",
   "nbconvert_exporter": "python",
   "pygments_lexer": "ipython3",
   "version": "3.6.9"
  }
 },
 "nbformat": 4,
 "nbformat_minor": 5
}
