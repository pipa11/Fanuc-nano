{
 "cells": [
  {
   "cell_type": "markdown",
   "id": "super-enough",
   "metadata": {},
   "source": [
    "# Recoleccion de fotos desde el jetson nano"
   ]
  },
  {
   "cell_type": "markdown",
   "id": "specialized-protest",
   "metadata": {},
   "source": [
    "#### importamos librerias y creamos las instacias para la camara y el trailet para verla"
   ]
  },
  {
   "cell_type": "code",
   "execution_count": 1,
   "id": "desirable-conducting",
   "metadata": {},
   "outputs": [],
   "source": [
    "import traitlets\n",
    "import ipywidgets.widgets as widgets\n",
    "import os\n",
    "from uuid import uuid1\n",
    "from IPython.display import display\n",
    "from jetbot import Camera, bgr8_to_jpeg\n",
    "\n",
    "camera = Camera.instance(width=224, height=224)\n",
    "image = widgets.Image(format='jpeg', width=224, height=224)  # this width and height doesn't necessarily have to match the camera\n",
    "camera_link = traitlets.dlink((camera, 'value'), (image, 'value'), transform=bgr8_to_jpeg)"
   ]
  },
  {
   "cell_type": "markdown",
   "id": "terminal-metropolitan",
   "metadata": {},
   "source": [
    "#### Creamos las carpetas para el dataset "
   ]
  },
  {
   "cell_type": "code",
   "execution_count": 2,
   "id": "nervous-williams",
   "metadata": {},
   "outputs": [],
   "source": [
    "pieza_dir = 'dataset/pieza' #blocked\n",
    "no_pieza_dir = 'dataset/no_pieza' #free\n",
    "\n",
    "# por si la carpeta ya existe\n",
    "try:\n",
    "    os.makedirs(no_pieza_dir)\n",
    "    os.makedirs(pieza_dir)\n",
    "except FileExistsError:\n",
    "    print('Las carpetas ya existen.')"
   ]
  },
  {
   "cell_type": "markdown",
   "id": "coastal-experience",
   "metadata": {},
   "source": [
    "#### Creamos los botones y los contadores para \"pieza\" y \" no_pieza\""
   ]
  },
  {
   "cell_type": "code",
   "execution_count": 3,
   "id": "engaged-spirituality",
   "metadata": {},
   "outputs": [],
   "source": [
    "button_layout = widgets.Layout(width='128px', height='64px')\n",
    "no_pieza_button = widgets.Button(description='Foto SIN pieza', button_style='success', layout=button_layout)\n",
    "pieza_button = widgets.Button(description='Foto CON pieza', button_style='danger', layout=button_layout)\n",
    "no_pieza_count = widgets.IntText(layout=button_layout, value=len(os.listdir(no_pieza_dir)))\n",
    "pieza_count = widgets.IntText(layout=button_layout, value=len(os.listdir(pieza_dir)))"
   ]
  },
  {
   "cell_type": "markdown",
   "id": "animated-monster",
   "metadata": {},
   "source": [
    "#### Definimos 3 funciones, una para que guarde las fotos y las otras dos para q las guarde dependiendo del boton que presionemos"
   ]
  },
  {
   "cell_type": "code",
   "execution_count": 4,
   "id": "civil-final",
   "metadata": {},
   "outputs": [],
   "source": [
    "def guardar_foto(directory):\n",
    "    image_path = os.path.join(directory, str(uuid1()) + '.jpg')\n",
    "    with open(image_path, 'wb') as f:\n",
    "        f.write(image.value)\n",
    "\n",
    "def guardar_no_pieza():\n",
    "    global no_pieza_dir, no_pieza_count\n",
    "    guardar_foto(no_pieza_dir)\n",
    "    no_pieza_count.value = len(os.listdir(no_pieza_dir))\n",
    "    \n",
    "def guardar_pieza():\n",
    "    global pieza_dir, pieza_count\n",
    "    guardar_foto(pieza_dir)\n",
    "    pieza_count.value = len(os.listdir(pieza_dir))\n",
    "    \n",
    "no_pieza_button.on_click(lambda x: guardar_no_pieza())\n",
    "pieza_button.on_click(lambda x: guardar_pieza())"
   ]
  },
  {
   "cell_type": "markdown",
   "id": "detailed-wright",
   "metadata": {},
   "source": [
    "#### Mostramos la camara del robot y los botones para agregar fotos al dataset"
   ]
  },
  {
   "cell_type": "code",
   "execution_count": 5,
   "id": "organized-collins",
   "metadata": {},
   "outputs": [
    {
     "data": {
      "application/vnd.jupyter.widget-view+json": {
       "model_id": "b8f37dd2e63a4a1aaad6efd6755a656b",
       "version_major": 2,
       "version_minor": 0
      },
      "text/plain": [
       "Image(value=b'\\xff\\xd8\\xff\\xe0\\x00\\x10JFIF\\x00\\x01\\x01\\x00\\x00\\x01\\x00\\x01\\x00\\x00\\xff\\xdb\\x00C\\x00\\x02\\x01\\x0…"
      ]
     },
     "metadata": {},
     "output_type": "display_data"
    },
    {
     "data": {
      "application/vnd.jupyter.widget-view+json": {
       "model_id": "76b22610869d4a16b0bd928e798bafc2",
       "version_major": 2,
       "version_minor": 0
      },
      "text/plain": [
       "HBox(children=(IntText(value=0, layout=Layout(height='64px', width='128px')), Button(button_style='success', d…"
      ]
     },
     "metadata": {},
     "output_type": "display_data"
    },
    {
     "data": {
      "application/vnd.jupyter.widget-view+json": {
       "model_id": "32e063f90e9942919fec432714bdb785",
       "version_major": 2,
       "version_minor": 0
      },
      "text/plain": [
       "HBox(children=(IntText(value=0, layout=Layout(height='64px', width='128px')), Button(button_style='danger', de…"
      ]
     },
     "metadata": {},
     "output_type": "display_data"
    }
   ],
   "source": [
    "display(image)\n",
    "display(widgets.HBox([no_pieza_count, no_pieza_button]))\n",
    "display(widgets.HBox([pieza_count, pieza_button]))"
   ]
  },
  {
   "cell_type": "markdown",
   "id": "mighty-creation",
   "metadata": {},
   "source": [
    "##### Para parar la conexion de la camara"
   ]
  },
  {
   "cell_type": "code",
   "execution_count": 7,
   "id": "tamil-holder",
   "metadata": {},
   "outputs": [],
   "source": [
    "camera.stop()"
   ]
  },
  {
   "cell_type": "markdown",
   "id": "characteristic-suicide",
   "metadata": {},
   "source": [
    "# Entrenamiento de la IA"
   ]
  },
  {
   "cell_type": "code",
   "execution_count": 2,
   "id": "amended-aberdeen",
   "metadata": {},
   "outputs": [],
   "source": [
    "import torch\n",
    "import torch.optim as optim\n",
    "import torch.nn.functional as F\n",
    "import torchvision\n",
    "import torchvision.datasets as datasets\n",
    "import torchvision.models as models\n",
    "import torchvision.transforms as transforms"
   ]
  },
  {
   "cell_type": "code",
   "execution_count": 3,
   "id": "dying-queue",
   "metadata": {},
   "outputs": [],
   "source": [
    "dataset = datasets.ImageFolder(\n",
    "    'dataset',\n",
    "    transforms.Compose([\n",
    "        transforms.ColorJitter(0.1, 0.1, 0.1, 0.1),\n",
    "        transforms.Resize((224, 224)),\n",
    "        transforms.ToTensor(),\n",
    "        transforms.Normalize([0.485, 0.456, 0.406], [0.229, 0.224, 0.225])\n",
    "    ])\n",
    ")"
   ]
  },
  {
   "cell_type": "code",
   "execution_count": 4,
   "id": "centered-effects",
   "metadata": {},
   "outputs": [],
   "source": [
    "train_dataset, test_dataset = torch.utils.data.random_split(dataset, [len(dataset) - 5, 5])"
   ]
  },
  {
   "cell_type": "code",
   "execution_count": 5,
   "id": "complimentary-atmosphere",
   "metadata": {},
   "outputs": [],
   "source": [
    "train_loader = torch.utils.data.DataLoader(\n",
    "    train_dataset,\n",
    "    batch_size=8,\n",
    "    shuffle=True,\n",
    "    num_workers=0\n",
    ")\n",
    "\n",
    "test_loader = torch.utils.data.DataLoader(\n",
    "    test_dataset,\n",
    "    batch_size=8,\n",
    "    shuffle=True,\n",
    "    num_workers=0\n",
    ")"
   ]
  },
  {
   "cell_type": "code",
   "execution_count": 6,
   "id": "auburn-advertiser",
   "metadata": {},
   "outputs": [],
   "source": [
    "model = models.alexnet(pretrained=True)"
   ]
  },
  {
   "cell_type": "code",
   "execution_count": 7,
   "id": "operating-variation",
   "metadata": {},
   "outputs": [],
   "source": [
    "model.classifier[6] = torch.nn.Linear(model.classifier[6].in_features, 2)"
   ]
  },
  {
   "cell_type": "code",
   "execution_count": 8,
   "id": "reserved-minneapolis",
   "metadata": {},
   "outputs": [],
   "source": [
    "device = torch.device('cuda')\n",
    "model = model.to(device)"
   ]
  },
  {
   "cell_type": "code",
   "execution_count": null,
   "id": "french-thumbnail",
   "metadata": {},
   "outputs": [
    {
     "name": "stdout",
     "output_type": "stream",
     "text": [
      "0: 0.400000\n"
     ]
    }
   ],
   "source": [
    "NUM_EPOCHS = 10\n",
    "MODEL_PATH = 'modelo_entrenado.pth'\n",
    "best_accuracy = 0.0\n",
    "\n",
    "optimizer = optim.SGD(model.parameters(), lr=0.001, momentum=0.9)\n",
    "\n",
    "for epoch in range(NUM_EPOCHS):\n",
    "    \n",
    "    for images, labels in iter(train_loader):\n",
    "        images = images.to(device)\n",
    "        labels = labels.to(device)\n",
    "        optimizer.zero_grad()\n",
    "        outputs = model(images)\n",
    "        loss = F.cross_entropy(outputs, labels)\n",
    "        loss.backward()\n",
    "        optimizer.step()\n",
    "    \n",
    "    test_error_count = 0.0\n",
    "    for images, labels in iter(test_loader):\n",
    "        images = images.to(device)\n",
    "        labels = labels.to(device)\n",
    "        outputs = model(images)\n",
    "        test_error_count += float(torch.sum(torch.abs(labels - outputs.argmax(1))))\n",
    "    \n",
    "    test_accuracy = 1.0 - float(test_error_count) / float(len(test_dataset))\n",
    "    print('%d: %f' % (epoch, test_accuracy))\n",
    "    if test_accuracy > best_accuracy:\n",
    "        torch.save(model.state_dict(), MODEL_PATH)\n",
    "        best_accuracy = test_accuracy"
   ]
  },
  {
   "cell_type": "code",
   "execution_count": null,
   "id": "ultimate-cancer",
   "metadata": {},
   "outputs": [],
   "source": []
  }
 ],
 "metadata": {
  "kernelspec": {
   "display_name": "Python 3",
   "language": "python",
   "name": "python3"
  },
  "language_info": {
   "codemirror_mode": {
    "name": "ipython",
    "version": 3
   },
   "file_extension": ".py",
   "mimetype": "text/x-python",
   "name": "python",
   "nbconvert_exporter": "python",
   "pygments_lexer": "ipython3",
   "version": "3.6.9"
  }
 },
 "nbformat": 4,
 "nbformat_minor": 5
}
